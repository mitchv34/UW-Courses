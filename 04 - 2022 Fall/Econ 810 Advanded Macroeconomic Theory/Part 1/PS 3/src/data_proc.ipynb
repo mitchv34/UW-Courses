{
 "cells": [
  {
   "cell_type": "code",
   "execution_count": 1,
   "metadata": {},
   "outputs": [],
   "source": [
    "import pandas as pd\n",
    "import numpy as np"
   ]
  },
  {
   "cell_type": "code",
   "execution_count": 33,
   "metadata": {},
   "outputs": [],
   "source": [
    "data = pd.read_stata('/root/pCloudDrive/Data/PSID_data/pequiv_long.dta')\n",
    "# First we drop individuals from the SEO oversample\n",
    "data = data[data.x11104LL == 'Main Sample    11']"
   ]
  },
  {
   "cell_type": "code",
   "execution_count": 34,
   "metadata": {},
   "outputs": [
    {
     "name": "stderr",
     "output_type": "stream",
     "text": [
      "/root/anaconda3/lib/python3.8/site-packages/pandas/core/frame.py:4441: SettingWithCopyWarning: \n",
      "A value is trying to be set on a copy of a slice from a DataFrame\n",
      "\n",
      "See the caveats in the documentation: https://pandas.pydata.org/pandas-docs/stable/user_guide/indexing.html#returning-a-view-versus-a-copy\n",
      "  return super().rename(\n"
     ]
    }
   ],
   "source": [
    "variables = {'year' : \"year\",\n",
    "        'x11101LL' : 'id',\n",
    "        'd11101' : 'age',\n",
    "        # Income variables\n",
    "        \"i11113\" : \"income\",\n",
    "        # Employment variables\n",
    "        \"e11101\" : \"anual_hours\",\n",
    "        # Number of persons in household\n",
    "        \"d11107\" : \"number_children\"\n",
    "        }\n",
    "\n",
    "df = data[list(variables.keys())]\n",
    "\n",
    "df.rename(columns=variables, inplace=True)"
   ]
  },
  {
   "cell_type": "code",
   "execution_count": 35,
   "metadata": {},
   "outputs": [],
   "source": [
    "# Filter by year\n",
    "df = df[ (df.year >= 1978) & (df.year <= 1997)]"
   ]
  },
  {
   "cell_type": "code",
   "execution_count": 36,
   "metadata": {},
   "outputs": [],
   "source": [
    "# Droping observations with missing values\n",
    "df.dropna(inplace=True)"
   ]
  },
  {
   "cell_type": "code",
   "execution_count": 84,
   "metadata": {},
   "outputs": [],
   "source": [
    "# Identifiying individuals with three years of full time employment\n",
    "\n",
    "full_time = 52 * 40 # Full time hours per year\n",
    "\n",
    "group = df.groupby('id')\n",
    "\n",
    "pattern = [True, True, True]\n",
    "\n",
    "treatment = []\n",
    "control = []\n",
    "neither = []\n",
    "\n",
    "i = 0\n",
    "for (id, group) in group:\n",
    "    # if group.anual_hours.sum() >= full_time:\n",
    "    data = group.sort_values('year')\n",
    "    data['full_time_year'] = data.anual_hours >= full_time\n",
    "    data[\"year_diff\"] = data[\"year\"].diff()\n",
    "    matched = data[[\"full_time_year\"]].rolling(len(pattern)).apply(lambda x: all(np.equal(x, pattern)))\n",
    "    matched = matched.sum(axis = 1).astype(bool)\n",
    "    occurences =  np.where(matched) \n",
    "    if len(occurences[0]) == 0:\n",
    "        neither.append(id)\n",
    "    else:\n",
    "        # display(data[['year', 'age', 'anual_hours', 'full_time_year', \"number_children\"]])\n",
    "        # print(id, occurences[0][-1], len(data))\n",
    "        when  = occurences[0][-1]\n",
    "        if when == len(data) - 1:\n",
    "            control.append(id)\n",
    "            continue\n",
    "        hours_3, hours_4 = data.iloc[[when, when+1]].anual_hours.values\n",
    "        children_3, children_4 = data.iloc[[when, when+1]].anual_hours.values\n",
    "        if (hours_4 < .25 * hours_3) & ( children_4  <= children_3):\n",
    "            treatment.append(id)\n",
    "        else:\n",
    "            control.append(id)\n",
    "        # i += 1\n",
    "        # if i > 10:\n",
    "        #     break"
   ]
  },
  {
   "cell_type": "code",
   "execution_count": 100,
   "metadata": {},
   "outputs": [
    {
     "name": "stderr",
     "output_type": "stream",
     "text": [
      "<ipython-input-100-ef05a78a6898>:2: SettingWithCopyWarning: \n",
      "A value is trying to be set on a copy of a slice from a DataFrame.\n",
      "Try using .loc[row_indexer,col_indexer] = value instead\n",
      "\n",
      "See the caveats in the documentation: https://pandas.pydata.org/pandas-docs/stable/user_guide/indexing.html#returning-a-view-versus-a-copy\n",
      "  sub_df[\"treatment\"] = df.id.apply( lambda x : 1 if x in treatment else 0)\n"
     ]
    }
   ],
   "source": [
    "sub_df = df[df.id.isin(treatment) | df.id.isin(control)]\n",
    "sub_df[\"treatment\"] = df.id.apply( lambda x : 1 if x in treatment else 0) "
   ]
  },
  {
   "cell_type": "code",
   "execution_count": 102,
   "metadata": {},
   "outputs": [],
   "source": [
    "sub_df.to_csv(\"/root/Work/UW-Courses/04 - 2022 Fall/Econ 810 Advanded Macroeconomic Theory/Part 1/PS 3/data/data.csv\", index=False)"
   ]
  },
  {
   "cell_type": "code",
   "execution_count": null,
   "metadata": {},
   "outputs": [],
   "source": []
  }
 ],
 "metadata": {
  "interpreter": {
   "hash": "61a57a4b5406d2de388e2f91097d4e4bcd7d5f4a46f53a795aa28a02eed27fc5"
  },
  "kernelspec": {
   "display_name": "Python 3.8.8 ('base')",
   "language": "python",
   "name": "python3"
  },
  "language_info": {
   "codemirror_mode": {
    "name": "ipython",
    "version": 3
   },
   "file_extension": ".py",
   "mimetype": "text/x-python",
   "name": "python",
   "nbconvert_exporter": "python",
   "pygments_lexer": "ipython3",
   "version": "3.8.8"
  },
  "orig_nbformat": 4
 },
 "nbformat": 4,
 "nbformat_minor": 2
}
