{
 "cells": [
  {
   "cell_type": "code",
   "execution_count": 45,
   "metadata": {},
   "outputs": [],
   "source": [
    "import pandas as pd\n",
    "import numpy as np"
   ]
  },
  {
   "cell_type": "code",
   "execution_count": 60,
   "metadata": {},
   "outputs": [],
   "source": [
    "# df = pd.read_stata('/home/mitch34/Work/UW Courses/04 - 2022 Fall/Econ 810 Advanded Macroeconomic Theory/Part 1/PS 1/data/pequiv_long.dta')\n",
    "df = pd.read_stata('https://www.dropbox.com/s/3avq0b4fsbujtvp/pequiv_long.dta?dl=1')"
   ]
  },
  {
   "cell_type": "code",
   "execution_count": 61,
   "metadata": {},
   "outputs": [],
   "source": [
    "# This function recieves a dataframe a cuttof level of earnings and a number of years and returns a filtered dataframe\n",
    "def filter_earnings(df_init, earnings_cuttof, n_years):\n",
    "    # First we drop individuals from the SEO oversample\n",
    "    df = df_init[df_init.x11104LL == 'Main Sample    11']\n",
    "    # Then we filter the dataframe by by and years\n",
    "    df = df[(df.year >= 1978) & (df.year <= 1997)]\n",
    "    # Next we create a summary for any individual how many years has earned more than the cutoff\n",
    "    summary = df.groupby(\"x11101LL\").agg({\"i11101\" : lambda column : column[column > earnings_cuttof].count()})\n",
    "    # The we select the individuals who have earned more than the cutoff in `n_years` number of years\n",
    "    id_s = summary[summary.i11101 > 5].index\n",
    "    # Then we filter the dataframe by the summary\n",
    "    df.set_index(\"x11101LL\", inplace=True)\n",
    "    df = df.loc[id_s]\n",
    "    # Finally we reset the index and return the dataframe\n",
    "    df.reset_index(inplace=True)\n",
    "    return df"
   ]
  },
  {
   "cell_type": "code",
   "execution_count": 64,
   "metadata": {},
   "outputs": [],
   "source": [
    "df_filt = filter_earnings(df, 0, 0)"
   ]
  },
  {
   "cell_type": "code",
   "execution_count": 67,
   "metadata": {},
   "outputs": [
    {
     "name": "stderr",
     "output_type": "stream",
     "text": [
      "/tmp/ipykernel_18897/1885781934.py:1: FutureWarning: Dropping of nuisance columns in DataFrame reductions (with 'numeric_only=None') is deprecated; in a future version this will raise TypeError.  Select only valid columns before calling the reduction.\n",
      "  df_filt[df_filt.year == 1980].mean()\n"
     ]
    },
    {
     "data": {
      "text/plain": [
       "x11101LL       1.499142e+06\n",
       "x11102         3.209579e+03\n",
       "l11101         2.410234e+01\n",
       "i11110         6.925547e+03\n",
       "d11101         3.080936e+01\n",
       "latino                  NaN\n",
       "i11217                  NaN\n",
       "i11112         1.135624e+03\n",
       "i11111         3.445872e+03\n",
       "e11101         9.297002e+02\n",
       "w11101         2.427485e+01\n",
       "w11102         2.468272e+01\n",
       "m11102                  NaN\n",
       "m11122                  NaN\n",
       "m11123                  NaN\n",
       "d11109         1.220428e+01\n",
       "year           1.980000e+03\n",
       "d11106         3.510430e+00\n",
       "d11107         1.405324e+00\n",
       "i11101         2.378109e+04\n",
       "i11102         2.010654e+04\n",
       "i11103         2.161927e+04\n",
       "i11104         1.347544e+03\n",
       "i11105         1.738022e+03\n",
       "i11106         3.579919e+02\n",
       "i11107         2.882631e+02\n",
       "i11108         6.186877e+02\n",
       "i11109         4.581497e+03\n",
       "i11113         1.866704e+04\n",
       "i11114         6.020995e+03\n",
       "i11115         6.856722e+02\n",
       "i11116         4.199699e+03\n",
       "i11117         4.562792e+02\n",
       "i11118         3.439843e+02\n",
       "h11101         1.184626e+00\n",
       "h11102         2.818947e-01\n",
       "h11103         1.648035e-01\n",
       "h11104         2.563098e-01\n",
       "h11105         2.377550e-01\n",
       "h11106         2.430564e-01\n",
       "h11107         1.378357e-01\n",
       "h11108         2.206984e-01\n",
       "h11109         1.971880e-01\n",
       "h11110         8.874035e-03\n",
       "h11111                  NaN\n",
       "w11103         2.427485e+01\n",
       "w11104         8.093300e+02\n",
       "w11109         8.093300e+02\n",
       "w11105                  NaN\n",
       "w11106                  NaN\n",
       "w11107                  NaN\n",
       "w11108                  NaN\n",
       "w11110                  NaN\n",
       "w11111                  NaN\n",
       "e11201                  NaN\n",
       "p11101_2009             NaN\n",
       "d11112_new     1.183474e+00\n",
       "dtype: float64"
      ]
     },
     "execution_count": 67,
     "metadata": {},
     "output_type": "execute_result"
    }
   ],
   "source": [
    "df_filt[df_filt.year == 1980, ].mean()"
   ]
  },
  {
   "cell_type": "code",
   "execution_count": 59,
   "metadata": {},
   "outputs": [],
   "source": [
    "df.to_csv('pequiv_long.csv', index=True)"
   ]
  }
 ],
 "metadata": {
  "interpreter": {
   "hash": "31f2aee4e71d21fbe5cf8b01ff0e069b9275f58929596ceb00d14d90e3e16cd6"
  },
  "kernelspec": {
   "display_name": "Python 3.8.10 64-bit",
   "language": "python",
   "name": "python3"
  },
  "language_info": {
   "codemirror_mode": {
    "name": "ipython",
    "version": 3
   },
   "file_extension": ".py",
   "mimetype": "text/x-python",
   "name": "python",
   "nbconvert_exporter": "python",
   "pygments_lexer": "ipython3",
   "version": "3.9.7"
  },
  "orig_nbformat": 4
 },
 "nbformat": 4,
 "nbformat_minor": 2
}
