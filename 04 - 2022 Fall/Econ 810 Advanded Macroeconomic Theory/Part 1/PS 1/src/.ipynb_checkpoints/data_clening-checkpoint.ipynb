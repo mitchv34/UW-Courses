{
 "cells": [
  {
   "cell_type": "code",
   "execution_count": 1,
   "metadata": {},
   "outputs": [],
   "source": [
    "%load_ext autoreload"
   ]
  },
  {
   "cell_type": "code",
   "execution_count": 2,
   "metadata": {},
   "outputs": [],
   "source": [
    "%autoreload 2\n",
    "import pandas as pd\n",
    "import numpy as np\n",
    "from data_pre_proc import read_data, filter_data, filter_by_earnigs"
   ]
  },
  {
   "cell_type": "code",
   "execution_count": 3,
   "metadata": {},
   "outputs": [],
   "source": [
    "df = read_data('https://www.dropbox.com/s/3avq0b4fsbujtvp/pequiv_long.dta?dl=1')"
   ]
  },
  {
   "cell_type": "code",
   "execution_count": 4,
   "metadata": {},
   "outputs": [],
   "source": [
    "data_dict = {\n",
    "        # Identifiers\n",
    "        'year' : \"year\",\n",
    "        'x11101LL' : 'id',\n",
    "        'd11101' : 'age',\n",
    "        # Income variables\n",
    "        \"i11113\" : \"income\"\n",
    "        }"
   ]
  },
  {
   "cell_type": "code",
   "execution_count": 6,
   "metadata": {},
   "outputs": [
    {
     "data": {
      "text/html": [
       "<div>\n",
       "<style scoped>\n",
       "    .dataframe tbody tr th:only-of-type {\n",
       "        vertical-align: middle;\n",
       "    }\n",
       "\n",
       "    .dataframe tbody tr th {\n",
       "        vertical-align: top;\n",
       "    }\n",
       "\n",
       "    .dataframe thead th {\n",
       "        text-align: right;\n",
       "    }\n",
       "</style>\n",
       "<table border=\"1\" class=\"dataframe\">\n",
       "  <thead>\n",
       "    <tr style=\"text-align: right;\">\n",
       "      <th></th>\n",
       "      <th>year</th>\n",
       "      <th>id</th>\n",
       "      <th>age</th>\n",
       "      <th>income</th>\n",
       "      <th>cohort</th>\n",
       "    </tr>\n",
       "  </thead>\n",
       "  <tbody>\n",
       "    <tr>\n",
       "      <th>19</th>\n",
       "      <td>1979.0</td>\n",
       "      <td>1003.0</td>\n",
       "      <td>32.0</td>\n",
       "      <td>23500.63</td>\n",
       "      <td>1947.0</td>\n",
       "    </tr>\n",
       "    <tr>\n",
       "      <th>21</th>\n",
       "      <td>1978.0</td>\n",
       "      <td>1003.0</td>\n",
       "      <td>31.0</td>\n",
       "      <td>21416.34</td>\n",
       "      <td>1947.0</td>\n",
       "    </tr>\n",
       "    <tr>\n",
       "      <th>26</th>\n",
       "      <td>1979.0</td>\n",
       "      <td>1004.0</td>\n",
       "      <td>30.0</td>\n",
       "      <td>23500.63</td>\n",
       "      <td>1949.0</td>\n",
       "    </tr>\n",
       "    <tr>\n",
       "      <th>35</th>\n",
       "      <td>1978.0</td>\n",
       "      <td>1004.0</td>\n",
       "      <td>29.0</td>\n",
       "      <td>21416.34</td>\n",
       "      <td>1949.0</td>\n",
       "    </tr>\n",
       "    <tr>\n",
       "      <th>73</th>\n",
       "      <td>1985.0</td>\n",
       "      <td>2171.0</td>\n",
       "      <td>45.0</td>\n",
       "      <td>3828.00</td>\n",
       "      <td>1940.0</td>\n",
       "    </tr>\n",
       "    <tr>\n",
       "      <th>...</th>\n",
       "      <td>...</td>\n",
       "      <td>...</td>\n",
       "      <td>...</td>\n",
       "      <td>...</td>\n",
       "      <td>...</td>\n",
       "    </tr>\n",
       "    <tr>\n",
       "      <th>440671</th>\n",
       "      <td>1997.0</td>\n",
       "      <td>3439002.0</td>\n",
       "      <td>44.0</td>\n",
       "      <td>7900.00</td>\n",
       "      <td>1953.0</td>\n",
       "    </tr>\n",
       "    <tr>\n",
       "      <th>440717</th>\n",
       "      <td>1997.0</td>\n",
       "      <td>3440001.0</td>\n",
       "      <td>52.0</td>\n",
       "      <td>3490.67</td>\n",
       "      <td>1945.0</td>\n",
       "    </tr>\n",
       "    <tr>\n",
       "      <th>440720</th>\n",
       "      <td>1997.0</td>\n",
       "      <td>3440002.0</td>\n",
       "      <td>48.0</td>\n",
       "      <td>3490.67</td>\n",
       "      <td>1949.0</td>\n",
       "    </tr>\n",
       "    <tr>\n",
       "      <th>440736</th>\n",
       "      <td>1997.0</td>\n",
       "      <td>3441001.0</td>\n",
       "      <td>32.0</td>\n",
       "      <td>998.00</td>\n",
       "      <td>1965.0</td>\n",
       "    </tr>\n",
       "    <tr>\n",
       "      <th>440743</th>\n",
       "      <td>1997.0</td>\n",
       "      <td>3441002.0</td>\n",
       "      <td>31.0</td>\n",
       "      <td>998.00</td>\n",
       "      <td>1966.0</td>\n",
       "    </tr>\n",
       "  </tbody>\n",
       "</table>\n",
       "<p>99331 rows × 5 columns</p>\n",
       "</div>"
      ],
      "text/plain": [
       "          year         id   age    income  cohort\n",
       "19      1979.0     1003.0  32.0  23500.63  1947.0\n",
       "21      1978.0     1003.0  31.0  21416.34  1947.0\n",
       "26      1979.0     1004.0  30.0  23500.63  1949.0\n",
       "35      1978.0     1004.0  29.0  21416.34  1949.0\n",
       "73      1985.0     2171.0  45.0   3828.00  1940.0\n",
       "...        ...        ...   ...       ...     ...\n",
       "440671  1997.0  3439002.0  44.0   7900.00  1953.0\n",
       "440717  1997.0  3440001.0  52.0   3490.67  1945.0\n",
       "440720  1997.0  3440002.0  48.0   3490.67  1949.0\n",
       "440736  1997.0  3441001.0  32.0    998.00  1965.0\n",
       "440743  1997.0  3441002.0  31.0    998.00  1966.0\n",
       "\n",
       "[99331 rows x 5 columns]"
      ]
     },
     "execution_count": 6,
     "metadata": {},
     "output_type": "execute_result"
    }
   ],
   "source": [
    "df_1 = filter_data(df, 1978, 1997, data_dict, {'age':[25, 25+34]})\n",
    "\n",
    "df_1[\"cohort\"] = df_1.year - df_1.age\n",
    "df_1"
   ]
  },
  {
   "cell_type": "code",
   "execution_count": 7,
   "metadata": {},
   "outputs": [
    {
     "data": {
      "text/plain": [
       "<AxesSubplot:xlabel='year', ylabel='income'>"
      ]
     },
     "execution_count": 7,
     "metadata": {},
     "output_type": "execute_result"
    },
    {
     "data": {
      "image/png": "[encoded data removed]",
      "text/plain": [
       "<Figure size 432x288 with 1 Axes>"
      ]
     },
     "metadata": {
      "needs_background": "light"
     },
     "output_type": "display_data"
    }
   ],
   "source": [
    "df_2 = filter_by_earnigs(df_1, \"income\", [2000, 170000], 3)\n",
    "df_2.plot(x='year', y='income', kind='scatter')"
   ]
  },
  {
   "cell_type": "code",
   "execution_count": 17,
   "metadata": {},
   "outputs": [],
   "source": [
    "null_indx = np.unique( df_2[df_2.income.isnull()].index )\n",
    "low_income_idx = np.unique(df_2[(df_2.income < 2000)].index)\n",
    "\n",
    "df_2.drop(null_indx, inplace=True)\n",
    "df_2.drop(low_income_idx, inplace=True)"
   ]
  },
  {
   "cell_type": "code",
   "execution_count": 18,
   "metadata": {},
   "outputs": [
    {
     "data": {
      "text/html": [
       "<div>\n",
       "<style scoped>\n",
       "    .dataframe tbody tr th:only-of-type {\n",
       "        vertical-align: middle;\n",
       "    }\n",
       "\n",
       "    .dataframe tbody tr th {\n",
       "        vertical-align: top;\n",
       "    }\n",
       "\n",
       "    .dataframe thead th {\n",
       "        text-align: right;\n",
       "    }\n",
       "</style>\n",
       "<table border=\"1\" class=\"dataframe\">\n",
       "  <thead>\n",
       "    <tr style=\"text-align: right;\">\n",
       "      <th></th>\n",
       "      <th>year</th>\n",
       "      <th>age</th>\n",
       "      <th>income</th>\n",
       "      <th>cohort</th>\n",
       "    </tr>\n",
       "    <tr>\n",
       "      <th>id</th>\n",
       "      <th></th>\n",
       "      <th></th>\n",
       "      <th></th>\n",
       "      <th></th>\n",
       "    </tr>\n",
       "  </thead>\n",
       "  <tbody>\n",
       "    <tr>\n",
       "      <th>2509176.0</th>\n",
       "      <td>1996.0</td>\n",
       "      <td>47.0</td>\n",
       "      <td>169328.90</td>\n",
       "      <td>1949.0</td>\n",
       "    </tr>\n",
       "    <tr>\n",
       "      <th>2509003.0</th>\n",
       "      <td>1996.0</td>\n",
       "      <td>41.0</td>\n",
       "      <td>169328.90</td>\n",
       "      <td>1955.0</td>\n",
       "    </tr>\n",
       "    <tr>\n",
       "      <th>573170.0</th>\n",
       "      <td>1997.0</td>\n",
       "      <td>45.0</td>\n",
       "      <td>168828.90</td>\n",
       "      <td>1952.0</td>\n",
       "    </tr>\n",
       "    <tr>\n",
       "      <th>573003.0</th>\n",
       "      <td>1997.0</td>\n",
       "      <td>42.0</td>\n",
       "      <td>168828.90</td>\n",
       "      <td>1955.0</td>\n",
       "    </tr>\n",
       "    <tr>\n",
       "      <th>1336007.0</th>\n",
       "      <td>1989.0</td>\n",
       "      <td>26.0</td>\n",
       "      <td>168615.00</td>\n",
       "      <td>1963.0</td>\n",
       "    </tr>\n",
       "    <tr>\n",
       "      <th>...</th>\n",
       "      <td>...</td>\n",
       "      <td>...</td>\n",
       "      <td>...</td>\n",
       "      <td>...</td>\n",
       "    </tr>\n",
       "    <tr>\n",
       "      <th>1028003.0</th>\n",
       "      <td>1993.0</td>\n",
       "      <td>45.0</td>\n",
       "      <td>2031.70</td>\n",
       "      <td>1948.0</td>\n",
       "    </tr>\n",
       "    <tr>\n",
       "      <th>2665005.0</th>\n",
       "      <td>1994.0</td>\n",
       "      <td>38.0</td>\n",
       "      <td>2028.91</td>\n",
       "      <td>1956.0</td>\n",
       "    </tr>\n",
       "    <tr>\n",
       "      <th>1775174.0</th>\n",
       "      <td>1994.0</td>\n",
       "      <td>34.0</td>\n",
       "      <td>2028.10</td>\n",
       "      <td>1960.0</td>\n",
       "    </tr>\n",
       "    <tr>\n",
       "      <th>174006.0</th>\n",
       "      <td>1981.0</td>\n",
       "      <td>25.0</td>\n",
       "      <td>2008.05</td>\n",
       "      <td>1956.0</td>\n",
       "    </tr>\n",
       "    <tr>\n",
       "      <th>1261003.0</th>\n",
       "      <td>1990.0</td>\n",
       "      <td>26.0</td>\n",
       "      <td>2000.00</td>\n",
       "      <td>1964.0</td>\n",
       "    </tr>\n",
       "  </tbody>\n",
       "</table>\n",
       "<p>87831 rows × 4 columns</p>\n",
       "</div>"
      ],
      "text/plain": [
       "             year   age     income  cohort\n",
       "id                                        \n",
       "2509176.0  1996.0  47.0  169328.90  1949.0\n",
       "2509003.0  1996.0  41.0  169328.90  1955.0\n",
       "573170.0   1997.0  45.0  168828.90  1952.0\n",
       "573003.0   1997.0  42.0  168828.90  1955.0\n",
       "1336007.0  1989.0  26.0  168615.00  1963.0\n",
       "...           ...   ...        ...     ...\n",
       "1028003.0  1993.0  45.0    2031.70  1948.0\n",
       "2665005.0  1994.0  38.0    2028.91  1956.0\n",
       "1775174.0  1994.0  34.0    2028.10  1960.0\n",
       "174006.0   1981.0  25.0    2008.05  1956.0\n",
       "1261003.0  1990.0  26.0    2000.00  1964.0\n",
       "\n",
       "[87831 rows x 4 columns]"
      ]
     },
     "execution_count": 18,
     "metadata": {},
     "output_type": "execute_result"
    }
   ],
   "source": [
    "df_2.sort_values(by='income', ascending=False)"
   ]
  },
  {
   "cell_type": "code",
   "execution_count": 19,
   "metadata": {},
   "outputs": [],
   "source": [
    "df_2.to_csv('../data/data_1.csv')"
   ]
  }
 ],
 "metadata": {
  "interpreter": {
   "hash": "31f2aee4e71d21fbe5cf8b01ff0e069b9275f58929596ceb00d14d90e3e16cd6"
  },
  "kernelspec": {
   "display_name": "Python 3 (ipykernel)",
   "language": "python",
   "name": "python3"
  },
  "language_info": {
   "codemirror_mode": {
    "name": "ipython",
    "version": 3
   },
   "file_extension": ".py",
   "mimetype": "text/x-python",
   "name": "python",
   "nbconvert_exporter": "python",
   "pygments_lexer": "ipython3",
   "version": "3.9.7"
  }
 },
 "nbformat": 4,
 "nbformat_minor": 2
}
